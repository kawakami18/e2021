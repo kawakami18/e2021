{
  "nbformat": 4,
  "nbformat_minor": 0,
  "metadata": {
    "colab": {
      "name": "e2021.ipynb",
      "provenance": [],
      "collapsed_sections": [],
      "authorship_tag": "ABX9TyM/Obwln7RMc7eDV5yFWq/i",
      "include_colab_link": true
    },
    "kernelspec": {
      "name": "python3",
      "display_name": "Python 3"
    }
  },
  "cells": [
    {
      "cell_type": "markdown",
      "metadata": {
        "id": "view-in-github",
        "colab_type": "text"
      },
      "source": [
        "<a href=\"https://colab.research.google.com/github/kawakami18/e2021/blob/main/e2021.ipynb\" target=\"_parent\"><img src=\"https://colab.research.google.com/assets/colab-badge.svg\" alt=\"Open In Colab\"/></a>"
      ]
    },
    {
      "cell_type": "markdown",
      "metadata": {
        "id": "83jXrHLR5wEk"
      },
      "source": [
        "# 線形代数  (行列に対する学問)\n",
        "\n",
        "1) 固有値・固有ベクトルの求め方を確認する。\n",
        "\n",
        "2) 固有値分解について理解を深める。\n",
        "\n",
        "3) 特異値・特異ベクトルの概要を知る。\n",
        "\n",
        "4) 特異値分解の概要を知る。"
      ]
    },
    {
      "cell_type": "markdown",
      "metadata": {
        "id": "pMGG9n8YFr6a"
      },
      "source": [
        ""
      ]
    }
  ]
}